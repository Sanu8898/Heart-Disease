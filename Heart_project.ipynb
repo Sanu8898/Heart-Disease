{
 "cells": [
  {
   "cell_type": "code",
   "execution_count": 1,
   "id": "ff811d4b",
   "metadata": {},
   "outputs": [],
   "source": [
    "#Wroking on classification\n",
    "#importing basic libraries\n",
    "import numpy as np\n",
    "import pandas as pd\n",
    "import matplotlib.pyplot as plt\n",
    "import seaborn as sns\n",
    "import warnings\n",
    "warnings.filterwarnings(\"ignore\")"
   ]
  },
  {
   "cell_type": "code",
   "execution_count": 2,
   "id": "7d446d57",
   "metadata": {},
   "outputs": [
    {
     "data": {
      "text/html": [
       "<div>\n",
       "<style scoped>\n",
       "    .dataframe tbody tr th:only-of-type {\n",
       "        vertical-align: middle;\n",
       "    }\n",
       "\n",
       "    .dataframe tbody tr th {\n",
       "        vertical-align: top;\n",
       "    }\n",
       "\n",
       "    .dataframe thead th {\n",
       "        text-align: right;\n",
       "    }\n",
       "</style>\n",
       "<table border=\"1\" class=\"dataframe\">\n",
       "  <thead>\n",
       "    <tr style=\"text-align: right;\">\n",
       "      <th></th>\n",
       "      <th>age</th>\n",
       "      <th>sex</th>\n",
       "      <th>cp</th>\n",
       "      <th>trestbps</th>\n",
       "      <th>chol</th>\n",
       "      <th>fbs</th>\n",
       "      <th>restecg</th>\n",
       "      <th>thalach</th>\n",
       "      <th>exang</th>\n",
       "      <th>oldpeak</th>\n",
       "      <th>slope</th>\n",
       "      <th>ca</th>\n",
       "      <th>thal</th>\n",
       "      <th>target</th>\n",
       "    </tr>\n",
       "  </thead>\n",
       "  <tbody>\n",
       "    <tr>\n",
       "      <th>0</th>\n",
       "      <td>52</td>\n",
       "      <td>1</td>\n",
       "      <td>0</td>\n",
       "      <td>125</td>\n",
       "      <td>212</td>\n",
       "      <td>0</td>\n",
       "      <td>1</td>\n",
       "      <td>168</td>\n",
       "      <td>0</td>\n",
       "      <td>1.0</td>\n",
       "      <td>2</td>\n",
       "      <td>2</td>\n",
       "      <td>3</td>\n",
       "      <td>0</td>\n",
       "    </tr>\n",
       "    <tr>\n",
       "      <th>1</th>\n",
       "      <td>53</td>\n",
       "      <td>1</td>\n",
       "      <td>0</td>\n",
       "      <td>140</td>\n",
       "      <td>203</td>\n",
       "      <td>1</td>\n",
       "      <td>0</td>\n",
       "      <td>155</td>\n",
       "      <td>1</td>\n",
       "      <td>3.1</td>\n",
       "      <td>0</td>\n",
       "      <td>0</td>\n",
       "      <td>3</td>\n",
       "      <td>0</td>\n",
       "    </tr>\n",
       "    <tr>\n",
       "      <th>2</th>\n",
       "      <td>70</td>\n",
       "      <td>1</td>\n",
       "      <td>0</td>\n",
       "      <td>145</td>\n",
       "      <td>174</td>\n",
       "      <td>0</td>\n",
       "      <td>1</td>\n",
       "      <td>125</td>\n",
       "      <td>1</td>\n",
       "      <td>2.6</td>\n",
       "      <td>0</td>\n",
       "      <td>0</td>\n",
       "      <td>3</td>\n",
       "      <td>0</td>\n",
       "    </tr>\n",
       "    <tr>\n",
       "      <th>3</th>\n",
       "      <td>61</td>\n",
       "      <td>1</td>\n",
       "      <td>0</td>\n",
       "      <td>148</td>\n",
       "      <td>203</td>\n",
       "      <td>0</td>\n",
       "      <td>1</td>\n",
       "      <td>161</td>\n",
       "      <td>0</td>\n",
       "      <td>0.0</td>\n",
       "      <td>2</td>\n",
       "      <td>1</td>\n",
       "      <td>3</td>\n",
       "      <td>0</td>\n",
       "    </tr>\n",
       "    <tr>\n",
       "      <th>4</th>\n",
       "      <td>62</td>\n",
       "      <td>0</td>\n",
       "      <td>0</td>\n",
       "      <td>138</td>\n",
       "      <td>294</td>\n",
       "      <td>1</td>\n",
       "      <td>1</td>\n",
       "      <td>106</td>\n",
       "      <td>0</td>\n",
       "      <td>1.9</td>\n",
       "      <td>1</td>\n",
       "      <td>3</td>\n",
       "      <td>2</td>\n",
       "      <td>0</td>\n",
       "    </tr>\n",
       "  </tbody>\n",
       "</table>\n",
       "</div>"
      ],
      "text/plain": [
       "   age  sex  cp  trestbps  chol  fbs  restecg  thalach  exang  oldpeak  slope  \\\n",
       "0   52    1   0       125   212    0        1      168      0      1.0      2   \n",
       "1   53    1   0       140   203    1        0      155      1      3.1      0   \n",
       "2   70    1   0       145   174    0        1      125      1      2.6      0   \n",
       "3   61    1   0       148   203    0        1      161      0      0.0      2   \n",
       "4   62    0   0       138   294    1        1      106      0      1.9      1   \n",
       "\n",
       "   ca  thal  target  \n",
       "0   2     3       0  \n",
       "1   0     3       0  \n",
       "2   0     3       0  \n",
       "3   1     3       0  \n",
       "4   3     2       0  "
      ]
     },
     "execution_count": 2,
     "metadata": {},
     "output_type": "execute_result"
    }
   ],
   "source": [
    "df=pd.read_csv(\"heart.csv\")\n",
    "df.head()"
   ]
  },
  {
   "cell_type": "code",
   "execution_count": 3,
   "id": "937b282a",
   "metadata": {},
   "outputs": [
    {
     "data": {
      "text/plain": [
       "(1025, 14)"
      ]
     },
     "execution_count": 3,
     "metadata": {},
     "output_type": "execute_result"
    }
   ],
   "source": [
    "#Checking how many rows and columns\n",
    "df.shape"
   ]
  },
  {
   "cell_type": "code",
   "execution_count": 4,
   "id": "ccc3ca10",
   "metadata": {},
   "outputs": [
    {
     "data": {
      "text/plain": [
       "age         0\n",
       "sex         0\n",
       "cp          0\n",
       "trestbps    0\n",
       "chol        0\n",
       "fbs         0\n",
       "restecg     0\n",
       "thalach     0\n",
       "exang       0\n",
       "oldpeak     0\n",
       "slope       0\n",
       "ca          0\n",
       "thal        0\n",
       "target      0\n",
       "dtype: int64"
      ]
     },
     "execution_count": 4,
     "metadata": {},
     "output_type": "execute_result"
    }
   ],
   "source": [
    "#null values\n",
    "df.isnull().sum()"
   ]
  },
  {
   "cell_type": "code",
   "execution_count": 5,
   "id": "34d2be29",
   "metadata": {},
   "outputs": [
    {
     "data": {
      "text/plain": [
       "age           int64\n",
       "sex           int64\n",
       "cp            int64\n",
       "trestbps      int64\n",
       "chol          int64\n",
       "fbs           int64\n",
       "restecg       int64\n",
       "thalach       int64\n",
       "exang         int64\n",
       "oldpeak     float64\n",
       "slope         int64\n",
       "ca            int64\n",
       "thal          int64\n",
       "target        int64\n",
       "dtype: object"
      ]
     },
     "execution_count": 5,
     "metadata": {},
     "output_type": "execute_result"
    }
   ],
   "source": [
    "df.dtypes"
   ]
  },
  {
   "cell_type": "code",
   "execution_count": 6,
   "id": "592ba7f7",
   "metadata": {},
   "outputs": [
    {
     "data": {
      "image/png": "[encoded data removed]",
      "text/plain": [
       "<Figure size 432x288 with 2 Axes>"
      ]
     },
     "metadata": {
      "needs_background": "light"
     },
     "output_type": "display_data"
    }
   ],
   "source": [
    "sns.heatmap(df.isnull())\n",
    "plt.show()#visualisng"
   ]
  },
  {
   "cell_type": "code",
   "execution_count": 7,
   "id": "b9718e3c",
   "metadata": {},
   "outputs": [],
   "source": [
    "#There no nul values"
   ]
  },
  {
   "cell_type": "code",
   "execution_count": 8,
   "id": "3520247a",
   "metadata": {},
   "outputs": [
    {
     "name": "stdout",
     "output_type": "stream",
     "text": [
      "1    526\n",
      "0    499\n",
      "Name: target, dtype: int64\n"
     ]
    },
    {
     "data": {
      "image/png": "[encoded data removed]",
      "text/plain": [
       "<Figure size 432x288 with 1 Axes>"
      ]
     },
     "metadata": {
      "needs_background": "light"
     },
     "output_type": "display_data"
    }
   ],
   "source": [
    "#checking our data set is balance or not\n",
    "f=df[\"target\"].value_counts()\n",
    "print(f)\n",
    "sns.countplot(data=df,x=\"target\")\n",
    "plt.yticks(f)\n",
    "plt.show()\n",
    "#Dataset is balanced"
   ]
  },
  {
   "cell_type": "code",
   "execution_count": 9,
   "id": "06d65b89",
   "metadata": {},
   "outputs": [],
   "source": [
    "#selecting input and output\n",
    "#performig model\n",
    "X=df.drop(\"target\",axis=1)\n",
    "Y=df[\"target\"]"
   ]
  },
  {
   "cell_type": "code",
   "execution_count": 10,
   "id": "0c6655ea",
   "metadata": {},
   "outputs": [],
   "source": [
    "#train_test_split\n",
    "from sklearn.model_selection import train_test_split\n",
    "x_train,x_test,y_train,y_test=train_test_split(X,Y,test_size=0.3,random_state=1)"
   ]
  },
  {
   "cell_type": "code",
   "execution_count": 11,
   "id": "34a3331e",
   "metadata": {},
   "outputs": [],
   "source": [
    "from sklearn.preprocessing import StandardScaler\n",
    "ss=StandardScaler()\n",
    "x_test=ss.fit_transform(x_test)\n",
    "x_train=ss.fit_transform(x_train)"
   ]
  },
  {
   "cell_type": "code",
   "execution_count": 12,
   "id": "4afe667b",
   "metadata": {},
   "outputs": [],
   "source": [
    "#inbuilt function\n",
    "from sklearn.metrics import classification_report\n",
    "from sklearn.metrics import confusion_matrix"
   ]
  },
  {
   "cell_type": "code",
   "execution_count": 13,
   "id": "191d9499",
   "metadata": {},
   "outputs": [],
   "source": [
    "def create_model(model):\n",
    "    model.fit(x_train,y_train)\n",
    "    y_pred=model.predict(x_test)\n",
    "    print(classification_report(y_test,y_pred))\n",
    "    print(\"confusion matrix:\")\n",
    "    #confusion matrix\n",
    "    print(confusion_matrix(y_test,y_pred))\n",
    "    return model"
   ]
  },
  {
   "cell_type": "code",
   "execution_count": 14,
   "id": "d7e13f47",
   "metadata": {},
   "outputs": [],
   "source": [
    "#Baseline model:import logistic regression model\n",
    "from sklearn.linear_model import LogisticRegression"
   ]
  },
  {
   "cell_type": "code",
   "execution_count": 15,
   "id": "7ab4278a",
   "metadata": {},
   "outputs": [],
   "source": [
    "lc=LogisticRegression()"
   ]
  },
  {
   "cell_type": "code",
   "execution_count": 16,
   "id": "33615f21",
   "metadata": {},
   "outputs": [
    {
     "name": "stdout",
     "output_type": "stream",
     "text": [
      "              precision    recall  f1-score   support\n",
      "\n",
      "           0       0.90      0.70      0.79       161\n",
      "           1       0.73      0.92      0.82       147\n",
      "\n",
      "    accuracy                           0.80       308\n",
      "   macro avg       0.82      0.81      0.80       308\n",
      "weighted avg       0.82      0.80      0.80       308\n",
      "\n",
      "confusion matrix:\n",
      "[[112  49]\n",
      " [ 12 135]]\n"
     ]
    }
   ],
   "source": [
    "lc=create_model(lc)"
   ]
  },
  {
   "cell_type": "code",
   "execution_count": 17,
   "id": "2c807de6",
   "metadata": {},
   "outputs": [],
   "source": [
    "#score is 92 of logiscticRegression\n"
   ]
  },
  {
   "cell_type": "code",
   "execution_count": 18,
   "id": "e1390284",
   "metadata": {},
   "outputs": [],
   "source": [
    "#DecisionTreeClassifier\n",
    "from sklearn.tree import DecisionTreeClassifier\n",
    "dt=DecisionTreeClassifier()"
   ]
  },
  {
   "cell_type": "code",
   "execution_count": 19,
   "id": "229b3143",
   "metadata": {},
   "outputs": [
    {
     "name": "stdout",
     "output_type": "stream",
     "text": [
      "              precision    recall  f1-score   support\n",
      "\n",
      "           0       0.98      1.00      0.99       161\n",
      "           1       1.00      0.98      0.99       147\n",
      "\n",
      "    accuracy                           0.99       308\n",
      "   macro avg       0.99      0.99      0.99       308\n",
      "weighted avg       0.99      0.99      0.99       308\n",
      "\n",
      "confusion matrix:\n",
      "[[161   0]\n",
      " [  3 144]]\n"
     ]
    }
   ],
   "source": [
    "df=create_model(dt)"
   ]
  },
  {
   "cell_type": "code",
   "execution_count": 20,
   "id": "add637ee",
   "metadata": {},
   "outputs": [],
   "source": [
    "#Tree Givinig us 98 \n",
    "#creating information Gain\n"
   ]
  },
  {
   "cell_type": "code",
   "execution_count": 21,
   "id": "f09e01a8",
   "metadata": {},
   "outputs": [
    {
     "name": "stdout",
     "output_type": "stream",
     "text": [
      "[0.05622303 0.06014196 0.27784246 0.05285365 0.10888221 0.\n",
      " 0.02899166 0.04377281 0.02325496 0.11108607 0.04759162 0.10937655\n",
      " 0.07998301]\n"
     ]
    }
   ],
   "source": [
    "IG=dt.feature_importances_\n",
    "print(IG)"
   ]
  },
  {
   "cell_type": "code",
   "execution_count": 22,
   "id": "13b948d8",
   "metadata": {},
   "outputs": [
    {
     "data": {
      "text/plain": [
       "Index(['age', 'sex', 'cp', 'trestbps', 'chol', 'fbs', 'restecg', 'thalach',\n",
       "       'exang', 'oldpeak', 'slope', 'ca', 'thal'],\n",
       "      dtype='object')"
      ]
     },
     "execution_count": 22,
     "metadata": {},
     "output_type": "execute_result"
    }
   ],
   "source": [
    "X.columns"
   ]
  },
  {
   "cell_type": "code",
   "execution_count": 23,
   "id": "8b60eb3b",
   "metadata": {},
   "outputs": [
    {
     "data": {
      "text/html": [
       "<div>\n",
       "<style scoped>\n",
       "    .dataframe tbody tr th:only-of-type {\n",
       "        vertical-align: middle;\n",
       "    }\n",
       "\n",
       "    .dataframe tbody tr th {\n",
       "        vertical-align: top;\n",
       "    }\n",
       "\n",
       "    .dataframe thead th {\n",
       "        text-align: right;\n",
       "    }\n",
       "</style>\n",
       "<table border=\"1\" class=\"dataframe\">\n",
       "  <thead>\n",
       "    <tr style=\"text-align: right;\">\n",
       "      <th></th>\n",
       "      <th>Input</th>\n",
       "      <th>Information_Gain</th>\n",
       "    </tr>\n",
       "  </thead>\n",
       "  <tbody>\n",
       "    <tr>\n",
       "      <th>0</th>\n",
       "      <td>cp</td>\n",
       "      <td>0.277842</td>\n",
       "    </tr>\n",
       "    <tr>\n",
       "      <th>1</th>\n",
       "      <td>oldpeak</td>\n",
       "      <td>0.111086</td>\n",
       "    </tr>\n",
       "    <tr>\n",
       "      <th>2</th>\n",
       "      <td>ca</td>\n",
       "      <td>0.109377</td>\n",
       "    </tr>\n",
       "    <tr>\n",
       "      <th>3</th>\n",
       "      <td>chol</td>\n",
       "      <td>0.108882</td>\n",
       "    </tr>\n",
       "    <tr>\n",
       "      <th>4</th>\n",
       "      <td>thal</td>\n",
       "      <td>0.079983</td>\n",
       "    </tr>\n",
       "    <tr>\n",
       "      <th>5</th>\n",
       "      <td>sex</td>\n",
       "      <td>0.060142</td>\n",
       "    </tr>\n",
       "    <tr>\n",
       "      <th>6</th>\n",
       "      <td>age</td>\n",
       "      <td>0.056223</td>\n",
       "    </tr>\n",
       "    <tr>\n",
       "      <th>7</th>\n",
       "      <td>trestbps</td>\n",
       "      <td>0.052854</td>\n",
       "    </tr>\n",
       "    <tr>\n",
       "      <th>8</th>\n",
       "      <td>slope</td>\n",
       "      <td>0.047592</td>\n",
       "    </tr>\n",
       "    <tr>\n",
       "      <th>9</th>\n",
       "      <td>thalach</td>\n",
       "      <td>0.043773</td>\n",
       "    </tr>\n",
       "    <tr>\n",
       "      <th>10</th>\n",
       "      <td>restecg</td>\n",
       "      <td>0.028992</td>\n",
       "    </tr>\n",
       "    <tr>\n",
       "      <th>11</th>\n",
       "      <td>exang</td>\n",
       "      <td>0.023255</td>\n",
       "    </tr>\n",
       "    <tr>\n",
       "      <th>12</th>\n",
       "      <td>fbs</td>\n",
       "      <td>0.000000</td>\n",
       "    </tr>\n",
       "  </tbody>\n",
       "</table>\n",
       "</div>"
      ],
      "text/plain": [
       "       Input  Information_Gain\n",
       "0         cp          0.277842\n",
       "1    oldpeak          0.111086\n",
       "2         ca          0.109377\n",
       "3       chol          0.108882\n",
       "4       thal          0.079983\n",
       "5        sex          0.060142\n",
       "6        age          0.056223\n",
       "7   trestbps          0.052854\n",
       "8      slope          0.047592\n",
       "9    thalach          0.043773\n",
       "10   restecg          0.028992\n",
       "11     exang          0.023255\n",
       "12       fbs          0.000000"
      ]
     },
     "execution_count": 23,
     "metadata": {},
     "output_type": "execute_result"
    }
   ],
   "source": [
    "#create A dataframe with sorting to disply information gain\n",
    "dic={'Input':X.columns,'Information_Gain':IG}\n",
    "df1=pd.DataFrame(dic)\n",
    "df1.sort_values('Information_Gain',ascending=False,ignore_index=True)"
   ]
  },
  {
   "cell_type": "code",
   "execution_count": 24,
   "id": "d66478d6",
   "metadata": {},
   "outputs": [
    {
     "data": {
      "text/plain": [
       "<Figure size 1440x1440 with 0 Axes>"
      ]
     },
     "metadata": {},
     "output_type": "display_data"
    }
   ],
   "source": [
    "from sklearn import tree\n",
    "feature=X.columns\n",
    "fig=plt.figure(figsize=(20,20))\n",
    "#_=tree.plot_tree(dt,feature_names=feature,filled=True)"
   ]
  },
  {
   "cell_type": "code",
   "execution_count": 25,
   "id": "5498047e",
   "metadata": {},
   "outputs": [],
   "source": [
    "#pruning technique to reduce overfitting from decisiontreeclassifer"
   ]
  },
  {
   "cell_type": "code",
   "execution_count": 26,
   "id": "db5bb231",
   "metadata": {},
   "outputs": [],
   "source": [
    "#1.max_depth\n",
    "#1. max_depth parameter  \n",
    "##create object of DecisionTreeClassifier class\n",
    "dt1=DecisionTreeClassifier(max_depth=7,random_state=1)\n",
    "#Note : max_depth can not more than 8\n",
    "#by default use method : gini index"
   ]
  },
  {
   "cell_type": "code",
   "execution_count": 27,
   "id": "d9f5d748",
   "metadata": {},
   "outputs": [
    {
     "name": "stdout",
     "output_type": "stream",
     "text": [
      "              precision    recall  f1-score   support\n",
      "\n",
      "           0       0.98      0.95      0.97       161\n",
      "           1       0.95      0.98      0.96       147\n",
      "\n",
      "    accuracy                           0.96       308\n",
      "   macro avg       0.96      0.96      0.96       308\n",
      "weighted avg       0.96      0.96      0.96       308\n",
      "\n",
      "confusion matrix:\n",
      "[[153   8]\n",
      " [  3 144]]\n"
     ]
    }
   ],
   "source": [
    "dt1=create_model(dt1)"
   ]
  },
  {
   "cell_type": "code",
   "execution_count": 28,
   "id": "93b369be",
   "metadata": {},
   "outputs": [
    {
     "data": {
      "text/plain": [
       "<Figure size 1440x1440 with 0 Axes>"
      ]
     },
     "metadata": {},
     "output_type": "display_data"
    }
   ],
   "source": [
    "from sklearn import tree\n",
    "feature=X.columns\n",
    "fig=plt.figure(figsize=(20,20))\n",
    "#_=tree.plot_tree(dt1,feature_names=feature,filled=True)"
   ]
  },
  {
   "cell_type": "code",
   "execution_count": 29,
   "id": "d99e143d",
   "metadata": {},
   "outputs": [
    {
     "name": "stdout",
     "output_type": "stream",
     "text": [
      "[0.04923496 0.05807075 0.2673896  0.06794946 0.10133126 0.\n",
      " 0.01784109 0.05274351 0.02393937 0.11003402 0.05331364 0.10717266\n",
      " 0.09097969]\n"
     ]
    }
   ],
   "source": [
    "IG=dt1.feature_importances_\n",
    "print(IG)"
   ]
  },
  {
   "cell_type": "code",
   "execution_count": 30,
   "id": "d833647f",
   "metadata": {},
   "outputs": [
    {
     "data": {
      "text/html": [
       "<div>\n",
       "<style scoped>\n",
       "    .dataframe tbody tr th:only-of-type {\n",
       "        vertical-align: middle;\n",
       "    }\n",
       "\n",
       "    .dataframe tbody tr th {\n",
       "        vertical-align: top;\n",
       "    }\n",
       "\n",
       "    .dataframe thead th {\n",
       "        text-align: right;\n",
       "    }\n",
       "</style>\n",
       "<table border=\"1\" class=\"dataframe\">\n",
       "  <thead>\n",
       "    <tr style=\"text-align: right;\">\n",
       "      <th></th>\n",
       "      <th>Input</th>\n",
       "      <th>Information_Gain</th>\n",
       "    </tr>\n",
       "  </thead>\n",
       "  <tbody>\n",
       "    <tr>\n",
       "      <th>0</th>\n",
       "      <td>cp</td>\n",
       "      <td>0.267390</td>\n",
       "    </tr>\n",
       "    <tr>\n",
       "      <th>1</th>\n",
       "      <td>oldpeak</td>\n",
       "      <td>0.110034</td>\n",
       "    </tr>\n",
       "    <tr>\n",
       "      <th>2</th>\n",
       "      <td>ca</td>\n",
       "      <td>0.107173</td>\n",
       "    </tr>\n",
       "    <tr>\n",
       "      <th>3</th>\n",
       "      <td>chol</td>\n",
       "      <td>0.101331</td>\n",
       "    </tr>\n",
       "    <tr>\n",
       "      <th>4</th>\n",
       "      <td>thal</td>\n",
       "      <td>0.090980</td>\n",
       "    </tr>\n",
       "    <tr>\n",
       "      <th>5</th>\n",
       "      <td>trestbps</td>\n",
       "      <td>0.067949</td>\n",
       "    </tr>\n",
       "    <tr>\n",
       "      <th>6</th>\n",
       "      <td>sex</td>\n",
       "      <td>0.058071</td>\n",
       "    </tr>\n",
       "    <tr>\n",
       "      <th>7</th>\n",
       "      <td>slope</td>\n",
       "      <td>0.053314</td>\n",
       "    </tr>\n",
       "    <tr>\n",
       "      <th>8</th>\n",
       "      <td>thalach</td>\n",
       "      <td>0.052744</td>\n",
       "    </tr>\n",
       "    <tr>\n",
       "      <th>9</th>\n",
       "      <td>age</td>\n",
       "      <td>0.049235</td>\n",
       "    </tr>\n",
       "    <tr>\n",
       "      <th>10</th>\n",
       "      <td>exang</td>\n",
       "      <td>0.023939</td>\n",
       "    </tr>\n",
       "    <tr>\n",
       "      <th>11</th>\n",
       "      <td>restecg</td>\n",
       "      <td>0.017841</td>\n",
       "    </tr>\n",
       "    <tr>\n",
       "      <th>12</th>\n",
       "      <td>fbs</td>\n",
       "      <td>0.000000</td>\n",
       "    </tr>\n",
       "  </tbody>\n",
       "</table>\n",
       "</div>"
      ],
      "text/plain": [
       "       Input  Information_Gain\n",
       "0         cp          0.267390\n",
       "1    oldpeak          0.110034\n",
       "2         ca          0.107173\n",
       "3       chol          0.101331\n",
       "4       thal          0.090980\n",
       "5   trestbps          0.067949\n",
       "6        sex          0.058071\n",
       "7      slope          0.053314\n",
       "8    thalach          0.052744\n",
       "9        age          0.049235\n",
       "10     exang          0.023939\n",
       "11   restecg          0.017841\n",
       "12       fbs          0.000000"
      ]
     },
     "execution_count": 30,
     "metadata": {},
     "output_type": "execute_result"
    }
   ],
   "source": [
    "#create A dataframe with sorting to disply information gain\n",
    "dic={'Input':X.columns,'Information_Gain':IG}\n",
    "df1=pd.DataFrame(dic)\n",
    "df1.sort_values('Information_Gain',ascending=False,ignore_index=True)"
   ]
  },
  {
   "cell_type": "code",
   "execution_count": 31,
   "id": "1cd789bb",
   "metadata": {},
   "outputs": [],
   "source": [
    "dt2=DecisionTreeClassifier(min_samples_leaf=60,random_state=1)"
   ]
  },
  {
   "cell_type": "code",
   "execution_count": 32,
   "id": "0735b5ba",
   "metadata": {},
   "outputs": [
    {
     "name": "stdout",
     "output_type": "stream",
     "text": [
      "              precision    recall  f1-score   support\n",
      "\n",
      "           0       0.95      0.69      0.80       161\n",
      "           1       0.74      0.96      0.83       147\n",
      "\n",
      "    accuracy                           0.82       308\n",
      "   macro avg       0.84      0.82      0.82       308\n",
      "weighted avg       0.85      0.82      0.82       308\n",
      "\n",
      "confusion matrix:\n",
      "[[111  50]\n",
      " [  6 141]]\n"
     ]
    }
   ],
   "source": [
    "dt2=create_model(dt2)"
   ]
  },
  {
   "cell_type": "code",
   "execution_count": 33,
   "id": "2c013043",
   "metadata": {},
   "outputs": [
    {
     "name": "stdout",
     "output_type": "stream",
     "text": [
      "[0.05588056 0.         0.51245074 0.         0.         0.\n",
      " 0.         0.00426938 0.         0.01030447 0.         0.16231713\n",
      " 0.25477772]\n"
     ]
    },
    {
     "data": {
      "text/html": [
       "<div>\n",
       "<style scoped>\n",
       "    .dataframe tbody tr th:only-of-type {\n",
       "        vertical-align: middle;\n",
       "    }\n",
       "\n",
       "    .dataframe tbody tr th {\n",
       "        vertical-align: top;\n",
       "    }\n",
       "\n",
       "    .dataframe thead th {\n",
       "        text-align: right;\n",
       "    }\n",
       "</style>\n",
       "<table border=\"1\" class=\"dataframe\">\n",
       "  <thead>\n",
       "    <tr style=\"text-align: right;\">\n",
       "      <th></th>\n",
       "      <th>Input</th>\n",
       "      <th>Information_Gain</th>\n",
       "    </tr>\n",
       "  </thead>\n",
       "  <tbody>\n",
       "    <tr>\n",
       "      <th>2</th>\n",
       "      <td>cp</td>\n",
       "      <td>0.512451</td>\n",
       "    </tr>\n",
       "    <tr>\n",
       "      <th>12</th>\n",
       "      <td>thal</td>\n",
       "      <td>0.254778</td>\n",
       "    </tr>\n",
       "    <tr>\n",
       "      <th>11</th>\n",
       "      <td>ca</td>\n",
       "      <td>0.162317</td>\n",
       "    </tr>\n",
       "    <tr>\n",
       "      <th>0</th>\n",
       "      <td>age</td>\n",
       "      <td>0.055881</td>\n",
       "    </tr>\n",
       "    <tr>\n",
       "      <th>9</th>\n",
       "      <td>oldpeak</td>\n",
       "      <td>0.010304</td>\n",
       "    </tr>\n",
       "    <tr>\n",
       "      <th>7</th>\n",
       "      <td>thalach</td>\n",
       "      <td>0.004269</td>\n",
       "    </tr>\n",
       "    <tr>\n",
       "      <th>1</th>\n",
       "      <td>sex</td>\n",
       "      <td>0.000000</td>\n",
       "    </tr>\n",
       "    <tr>\n",
       "      <th>3</th>\n",
       "      <td>trestbps</td>\n",
       "      <td>0.000000</td>\n",
       "    </tr>\n",
       "    <tr>\n",
       "      <th>4</th>\n",
       "      <td>chol</td>\n",
       "      <td>0.000000</td>\n",
       "    </tr>\n",
       "    <tr>\n",
       "      <th>5</th>\n",
       "      <td>fbs</td>\n",
       "      <td>0.000000</td>\n",
       "    </tr>\n",
       "    <tr>\n",
       "      <th>6</th>\n",
       "      <td>restecg</td>\n",
       "      <td>0.000000</td>\n",
       "    </tr>\n",
       "    <tr>\n",
       "      <th>8</th>\n",
       "      <td>exang</td>\n",
       "      <td>0.000000</td>\n",
       "    </tr>\n",
       "    <tr>\n",
       "      <th>10</th>\n",
       "      <td>slope</td>\n",
       "      <td>0.000000</td>\n",
       "    </tr>\n",
       "  </tbody>\n",
       "</table>\n",
       "</div>"
      ],
      "text/plain": [
       "       Input  Information_Gain\n",
       "2         cp          0.512451\n",
       "12      thal          0.254778\n",
       "11        ca          0.162317\n",
       "0        age          0.055881\n",
       "9    oldpeak          0.010304\n",
       "7    thalach          0.004269\n",
       "1        sex          0.000000\n",
       "3   trestbps          0.000000\n",
       "4       chol          0.000000\n",
       "5        fbs          0.000000\n",
       "6    restecg          0.000000\n",
       "8      exang          0.000000\n",
       "10     slope          0.000000"
      ]
     },
     "execution_count": 33,
     "metadata": {},
     "output_type": "execute_result"
    }
   ],
   "source": [
    "IG=dt2.feature_importances_\n",
    "print(IG)\n",
    "column=X.columns\n",
    "\n",
    "#creaet a dataframe\n",
    "dic={'Input':column,'Information_Gain':IG}\n",
    "df3=pd.DataFrame(dic)\n",
    "df3.sort_values('Information_Gain',ascending=False)\n"
   ]
  },
  {
   "cell_type": "code",
   "execution_count": 34,
   "id": "e0bd4cdd",
   "metadata": {},
   "outputs": [],
   "source": [
    "#use of entropy method\n",
    "#use entropy method of decisiontree \n",
    "#means -P(yes)*log2P(yes)-P(No)*log2(P(no))\n",
    "#here log2 means base of log=2\n",
    "##create object of DecisionTreeClassifier class\n",
    "dt3=DecisionTreeClassifier(criterion='entropy',\n",
    "                           max_depth=3,random_state=1)\n",
    "#bydefault criterion='gini' means 1-P(yes)^2-Q(no)^2"
   ]
  },
  {
   "cell_type": "code",
   "execution_count": 35,
   "id": "d5439517",
   "metadata": {},
   "outputs": [
    {
     "name": "stdout",
     "output_type": "stream",
     "text": [
      "              precision    recall  f1-score   support\n",
      "\n",
      "           0       0.93      0.73      0.82       161\n",
      "           1       0.76      0.94      0.84       147\n",
      "\n",
      "    accuracy                           0.83       308\n",
      "   macro avg       0.85      0.84      0.83       308\n",
      "weighted avg       0.85      0.83      0.83       308\n",
      "\n",
      "confusion matrix:\n",
      "[[118  43]\n",
      " [  9 138]]\n"
     ]
    }
   ],
   "source": [
    "dt3=create_model(dt3)"
   ]
  },
  {
   "cell_type": "code",
   "execution_count": 36,
   "id": "236fce9b",
   "metadata": {},
   "outputs": [],
   "source": [
    "dt4=DecisionTreeClassifier(criterion='entropy',min_samples_leaf=70,random_state=1)"
   ]
  },
  {
   "cell_type": "code",
   "execution_count": 37,
   "id": "3a421408",
   "metadata": {},
   "outputs": [
    {
     "name": "stdout",
     "output_type": "stream",
     "text": [
      "              precision    recall  f1-score   support\n",
      "\n",
      "           0       0.84      0.80      0.82       161\n",
      "           1       0.79      0.83      0.81       147\n",
      "\n",
      "    accuracy                           0.81       308\n",
      "   macro avg       0.81      0.82      0.81       308\n",
      "weighted avg       0.82      0.81      0.82       308\n",
      "\n",
      "confusion matrix:\n",
      "[[129  32]\n",
      " [ 25 122]]\n"
     ]
    }
   ],
   "source": [
    "dt4=create_model(dt4)"
   ]
  },
  {
   "cell_type": "code",
   "execution_count": 38,
   "id": "bf8b7410",
   "metadata": {},
   "outputs": [],
   "source": [
    "#Decition tree \n",
    "#gini index max depth=6 giving 96 score"
   ]
  },
  {
   "cell_type": "code",
   "execution_count": 39,
   "id": "09ce8a7f",
   "metadata": {},
   "outputs": [
    {
     "data": {
      "text/plain": [
       "'Énsembling Technique:-\\n1.Naive Aggregation method\\n  a.Hard voting  b.soft voting\\n2.Bootstraping method\\n a.Bagging   b.pasting  c.random forest tree\\n3.Boosting Technique\\n a.ADA Boost   b.Gradient Boost  c.xtreme Gradient Boost(XGB)\\n4.Stacking classifier \\n'"
      ]
     },
     "execution_count": 39,
     "metadata": {},
     "output_type": "execute_result"
    }
   ],
   "source": [
    "'''Énsembling Technique:-\n",
    "1.Naive Aggregation method\n",
    "  a.Hard voting  b.soft voting\n",
    "2.Bootstraping method\n",
    " a.Bagging   b.pasting  c.random forest tree\n",
    "3.Boosting Technique\n",
    " a.ADA Boost   b.Gradient Boost  c.xtreme Gradient Boost(XGB)\n",
    "4.Stacking classifier \n",
    "'''"
   ]
  },
  {
   "cell_type": "code",
   "execution_count": 40,
   "id": "6752f894",
   "metadata": {},
   "outputs": [],
   "source": [
    "from sklearn.ensemble import RandomForestClassifier\n",
    "\n",
    "#create object of randomforestclasifer\n",
    "rfc=RandomForestClassifier(n_estimators=10,max_features=7,random_state=1)\n"
   ]
  },
  {
   "cell_type": "code",
   "execution_count": 41,
   "id": "d81630c9",
   "metadata": {},
   "outputs": [
    {
     "data": {
      "text/plain": [
       "(717, 13)"
      ]
     },
     "execution_count": 41,
     "metadata": {},
     "output_type": "execute_result"
    }
   ],
   "source": [
    "x_train.shape"
   ]
  },
  {
   "cell_type": "code",
   "execution_count": 42,
   "id": "116a34a8",
   "metadata": {},
   "outputs": [
    {
     "name": "stdout",
     "output_type": "stream",
     "text": [
      "              precision    recall  f1-score   support\n",
      "\n",
      "           0       0.99      0.98      0.98       161\n",
      "           1       0.97      0.99      0.98       147\n",
      "\n",
      "    accuracy                           0.98       308\n",
      "   macro avg       0.98      0.98      0.98       308\n",
      "weighted avg       0.98      0.98      0.98       308\n",
      "\n",
      "confusion matrix:\n",
      "[[157   4]\n",
      " [  2 145]]\n"
     ]
    }
   ],
   "source": [
    "rfc=create_model(rfc)"
   ]
  },
  {
   "cell_type": "code",
   "execution_count": 43,
   "id": "124e3740",
   "metadata": {},
   "outputs": [],
   "source": [
    "#ADA Boosting :-ADA Boost making decision stump\n",
    "#Apply ADA Boost on given dataset\n",
    "from sklearn.ensemble import AdaBoostClassifier"
   ]
  },
  {
   "cell_type": "code",
   "execution_count": 44,
   "id": "4ebc819d",
   "metadata": {},
   "outputs": [],
   "source": [
    "#create the object of AdaBoostClassifier class\n",
    "ada=AdaBoostClassifier(n_estimators=100,random_state=1)\n",
    "#n_Estimators can be <=100 means n_estimators can not be more then 100"
   ]
  },
  {
   "cell_type": "code",
   "execution_count": 45,
   "id": "69dcecc3",
   "metadata": {},
   "outputs": [
    {
     "name": "stdout",
     "output_type": "stream",
     "text": [
      "              precision    recall  f1-score   support\n",
      "\n",
      "           0       0.93      0.87      0.90       161\n",
      "           1       0.87      0.93      0.89       147\n",
      "\n",
      "    accuracy                           0.90       308\n",
      "   macro avg       0.90      0.90      0.90       308\n",
      "weighted avg       0.90      0.90      0.90       308\n",
      "\n",
      "confusion matrix:\n",
      "[[140  21]\n",
      " [ 11 136]]\n"
     ]
    }
   ],
   "source": [
    "ada=create_model(ada)"
   ]
  },
  {
   "cell_type": "code",
   "execution_count": 46,
   "id": "6eddd161",
   "metadata": {},
   "outputs": [],
   "source": [
    "#call Gradient Boosting class\n",
    "from sklearn.ensemble import GradientBoostingClassifier"
   ]
  },
  {
   "cell_type": "code",
   "execution_count": 47,
   "id": "9187d69d",
   "metadata": {},
   "outputs": [],
   "source": [
    "gb=GradientBoostingClassifier(n_estimators=30,random_state=1)"
   ]
  },
  {
   "cell_type": "code",
   "execution_count": 48,
   "id": "837077c4",
   "metadata": {},
   "outputs": [
    {
     "name": "stdout",
     "output_type": "stream",
     "text": [
      "              precision    recall  f1-score   support\n",
      "\n",
      "           0       0.99      0.83      0.90       161\n",
      "           1       0.84      0.99      0.91       147\n",
      "\n",
      "    accuracy                           0.91       308\n",
      "   macro avg       0.91      0.91      0.91       308\n",
      "weighted avg       0.92      0.91      0.91       308\n",
      "\n",
      "confusion matrix:\n",
      "[[134  27]\n",
      " [  2 145]]\n"
     ]
    }
   ],
   "source": [
    "gb=create_model(gb)"
   ]
  },
  {
   "cell_type": "code",
   "execution_count": 49,
   "id": "f0baf673",
   "metadata": {},
   "outputs": [],
   "source": [
    "from xgboost import XGBClassifier"
   ]
  },
  {
   "cell_type": "code",
   "execution_count": 50,
   "id": "6f6b51ba",
   "metadata": {},
   "outputs": [],
   "source": [
    "xgb=XGBClassifier(n_estimators=25,reg_alpha=1,random_state=1)"
   ]
  },
  {
   "cell_type": "code",
   "execution_count": 51,
   "id": "1f806c8b",
   "metadata": {},
   "outputs": [
    {
     "name": "stdout",
     "output_type": "stream",
     "text": [
      "              precision    recall  f1-score   support\n",
      "\n",
      "           0       1.00      0.97      0.98       161\n",
      "           1       0.97      1.00      0.98       147\n",
      "\n",
      "    accuracy                           0.98       308\n",
      "   macro avg       0.98      0.98      0.98       308\n",
      "weighted avg       0.98      0.98      0.98       308\n",
      "\n",
      "confusion matrix:\n",
      "[[156   5]\n",
      " [  0 147]]\n"
     ]
    }
   ],
   "source": [
    "xgb=create_model(xgb)"
   ]
  },
  {
   "cell_type": "code",
   "execution_count": 53,
   "id": "b517c605",
   "metadata": {},
   "outputs": [],
   "source": [
    "#polynomial kernel function (non-linear)\n",
    "from sklearn.svm import SVC\n",
    "#svc inbuilt class for non-linear data"
   ]
  },
  {
   "cell_type": "code",
   "execution_count": 54,
   "id": "132b2fb0",
   "metadata": {},
   "outputs": [],
   "source": [
    "poly_svc=SVC(random_state=1,kernel='poly')"
   ]
  },
  {
   "cell_type": "code",
   "execution_count": 56,
   "id": "364623cf",
   "metadata": {},
   "outputs": [
    {
     "name": "stdout",
     "output_type": "stream",
     "text": [
      "              precision    recall  f1-score   support\n",
      "\n",
      "           0       0.98      0.84      0.91       161\n",
      "           1       0.85      0.98      0.91       147\n",
      "\n",
      "    accuracy                           0.91       308\n",
      "   macro avg       0.92      0.91      0.91       308\n",
      "weighted avg       0.92      0.91      0.91       308\n",
      "\n",
      "confusion matrix:\n",
      "[[136  25]\n",
      " [  3 144]]\n"
     ]
    }
   ],
   "source": [
    "poly_svc=create_model(poly_svc)"
   ]
  },
  {
   "cell_type": "code",
   "execution_count": 55,
   "id": "a9f57c52",
   "metadata": {},
   "outputs": [],
   "source": [
    "#apply radial basis kernel function\n",
    "radial_svc=SVC(random_state=1,kernel=\"rbf\")"
   ]
  },
  {
   "cell_type": "code",
   "execution_count": 57,
   "id": "19e10a5d",
   "metadata": {},
   "outputs": [
    {
     "name": "stdout",
     "output_type": "stream",
     "text": [
      "              precision    recall  f1-score   support\n",
      "\n",
      "           0       0.98      0.83      0.90       161\n",
      "           1       0.84      0.98      0.90       147\n",
      "\n",
      "    accuracy                           0.90       308\n",
      "   macro avg       0.91      0.90      0.90       308\n",
      "weighted avg       0.91      0.90      0.90       308\n",
      "\n",
      "confusion matrix:\n",
      "[[133  28]\n",
      " [  3 144]]\n"
     ]
    }
   ],
   "source": [
    "radial_svc=create_model(radial_svc)"
   ]
  },
  {
   "cell_type": "code",
   "execution_count": 58,
   "id": "0092eebc",
   "metadata": {},
   "outputs": [],
   "source": [
    " #Gradient boosting and svm are the best for this data set"
   ]
  },
  {
   "cell_type": "code",
   "execution_count": null,
   "id": "f048febe",
   "metadata": {},
   "outputs": [],
   "source": []
  }
 ],
 "metadata": {
  "kernelspec": {
   "display_name": "Python 3 (ipykernel)",
   "language": "python",
   "name": "python3"
  },
  "language_info": {
   "codemirror_mode": {
    "name": "ipython",
    "version": 3
   },
   "file_extension": ".py",
   "mimetype": "text/x-python",
   "name": "python",
   "nbconvert_exporter": "python",
   "pygments_lexer": "ipython3",
   "version": "3.9.12"
  }
 },
 "nbformat": 4,
 "nbformat_minor": 5
}
